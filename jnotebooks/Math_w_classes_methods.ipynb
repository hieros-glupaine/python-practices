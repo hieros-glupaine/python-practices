{
 "cells": [
  {
   "cell_type": "markdown",
   "metadata": {},
   "source": [
    "###### disclaimer: This is an integrative excersive part of the Mujeres en Data Science (Women in Data Science) course by MediaChicas (www.mediachicas.org) and Magali Dominguez Lalli. Copyright to them on the assignement. English translation*, Notebook formatting and solving code by me (Graciana M.- /hieros-glupaine).\n",
    "##### * object names where kept in spanish for consistency"
   ]
  },
  {
   "cell_type": "markdown",
   "metadata": {},
   "source": [
    "- Create a class called __Punto__ with its two coordinates X and Y.\n",
    "- Add a __constructor method__ to easily create points. If it doesn't receive a coordinate, its value will be zero.\n",
    "- Override the __string__ method, so that when printing it appears in (X, Y) format\n",
    "- Add a method called __cuadrante__ that indicates to which quadrant the point belongs, taking into account that if X == 0 and Y! = 0 is located on the Y axis, if X! = 0 and Y == 0 is located on the X axis and if X == 0 and Y == 0 is on the origin.\n",
    "- Add a method called __vector__, which takes another point and calculates the resulting vector between the two points.\n",
    "- (Optional) Add a method called __distancia__, that takes another point and calculates the distance between the two points and displays it on the screen."
   ]
  },
  {
   "cell_type": "code",
   "execution_count": 1,
   "metadata": {},
   "outputs": [],
   "source": [
    "import math"
   ]
  },
  {
   "cell_type": "code",
   "execution_count": 2,
   "metadata": {},
   "outputs": [],
   "source": [
    "class Punto:\n",
    "    def __init__(self, X=0, Y=0):\n",
    "        self.X = X\n",
    "        self.Y = Y\n",
    "        \n",
    "    def __str__(self):\n",
    "        coordenada = \"(\"+ str(self.X) + \",\" + str(self.Y) + \")\"\n",
    "        return coordenada\n",
    "    \n",
    "    def cuadrante(self):\n",
    "        if (self.X == 0) and (self.Y != 0):\n",
    "            return \"belongs to Y axis\"\n",
    "        elif (self.X != 0) and (self.Y == 0):\n",
    "            return \"belongs to X axis\"\n",
    "        elif (self.X == 0) and (self.Y == 0):\n",
    "            return \"belongs to the origin\"\n",
    "        elif (self.X > 0) and (self.Y > 0):\n",
    "            return \"belongs to quadrant I (+,+)\"\n",
    "        elif (self.X < 0) and (self.Y > 0):\n",
    "            return \"belongs to quadrant II (-,+)\"\n",
    "        elif (self.X < 0) and (self.Y < 0):\n",
    "            return \"belongs to quadrant III (-,-)\"\n",
    "        elif (self.X > 0) and (self.Y < 0):\n",
    "            return \"belongs to quadrant IV (+,-)\"\n",
    "        \n",
    "    def vector(self, p2):\n",
    "        v = \"(\"+ str(p2.X - self.X) + \",\" + str(p2.Y - self.Y) + \")\"\n",
    "        return v\n",
    "    \n",
    "    def distancia(self, p2):\n",
    "        distancia_puntos = math.sqrt((p2.X - self.X)**2 + (p2.Y - self.Y)**2)\n",
    "        return distancia_puntos        "
   ]
  },
  {
   "cell_type": "markdown",
   "metadata": {},
   "source": [
    "------------------------------"
   ]
  },
  {
   "cell_type": "markdown",
   "metadata": {},
   "source": [
    "- Create a class called __Rectangulo__ with two points (start and end) that will form the diagonal of the rectangle.\n",
    "- Add a __constructor method__ to easily create the two points. If they are not introduced, the two points will be created in the origin by default.\n",
    "- Add to the rectangle a method called __base__ that displays the base.\n",
    "- Add to the rectangle a method called __altura__ that displays the height.\n",
    "- Add to the rectangle a method called __area__ that shows the area."
   ]
  },
  {
   "cell_type": "code",
   "execution_count": 3,
   "metadata": {},
   "outputs": [],
   "source": [
    "class Rectangulo:\n",
    "    def __init__(self, StartPoint=Punto(), EndPoint=Punto()):\n",
    "        self.StartPoint = StartPoint\n",
    "        self.EndPoint = EndPoint\n",
    "    \n",
    "    def base(self):\n",
    "        return abs(self.EndPoint.X - self.StartPoint.X)\n",
    "    \n",
    "    def altura(self):\n",
    "        return abs(self.EndPoint.Y - self.StartPoint.Y)\n",
    "    \n",
    "    def area(self):\n",
    "        return (self.base()*self.altura())"
   ]
  },
  {
   "cell_type": "markdown",
   "metadata": {},
   "source": [
    "## Experimentation\n",
    "\n",
    "- Create points A (2, 3), B (5,5), C (-3, -1) and D (0,0) and print them on the screen.\n",
    "- Check to which quadrant point A, C and D belong.\n",
    "- Find vectors AB and BA.\n",
    "- (Optional) Find the distance between the points 'A and B' and 'B and A'.\n",
    "- (Optional) Determine which of the 3 points A, B or C, is located further from the origin point (0,0).\n",
    "- Create a rectangle using points A and B.\n",
    "- Find the base, height and area of the rectangle."
   ]
  },
  {
   "cell_type": "code",
   "execution_count": 4,
   "metadata": {},
   "outputs": [],
   "source": [
    "A = Punto(2,3)\n",
    "B = Punto(5,5)\n",
    "C = Punto(-3,-1)\n",
    "D = Punto(0,0)"
   ]
  },
  {
   "cell_type": "code",
   "execution_count": 5,
   "metadata": {},
   "outputs": [
    {
     "name": "stdout",
     "output_type": "stream",
     "text": [
      "belongs to quadrant I (+,+)\n",
      "belongs to quadrant III (-,-)\n",
      "belongs to the origin\n"
     ]
    }
   ],
   "source": [
    "print(A.cuadrante())\n",
    "print(C.cuadrante())\n",
    "print(D.cuadrante())"
   ]
  },
  {
   "cell_type": "code",
   "execution_count": 6,
   "metadata": {},
   "outputs": [
    {
     "name": "stdout",
     "output_type": "stream",
     "text": [
      "(3,2)\n",
      "(-3,-2)\n"
     ]
    }
   ],
   "source": [
    "print(A.vector(B))\n",
    "\n",
    "print(B.vector(A))"
   ]
  },
  {
   "cell_type": "code",
   "execution_count": 7,
   "metadata": {},
   "outputs": [
    {
     "name": "stdout",
     "output_type": "stream",
     "text": [
      "3.605551275463989\n",
      "3.605551275463989\n"
     ]
    }
   ],
   "source": [
    "print(A.distancia(B))\n",
    "\n",
    "print(B.distancia(A))"
   ]
  },
  {
   "cell_type": "code",
   "execution_count": 8,
   "metadata": {},
   "outputs": [
    {
     "name": "stdout",
     "output_type": "stream",
     "text": [
      "3.605551275463989\n",
      "7.0710678118654755\n",
      "3.1622776601683795\n",
      "the most distant point is B (5,5)\n"
     ]
    }
   ],
   "source": [
    "print(A.distancia(D))\n",
    "print(B.distancia(D))\n",
    "print(C.distancia(D))\n",
    "\n",
    "print(f\"the most distant point is B {B}\")"
   ]
  },
  {
   "cell_type": "code",
   "execution_count": 9,
   "metadata": {
    "scrolled": true
   },
   "outputs": [
    {
     "name": "stdout",
     "output_type": "stream",
     "text": [
      "3\n",
      "2\n",
      "6\n"
     ]
    }
   ],
   "source": [
    "figura = Rectangulo(A,B)\n",
    "\n",
    "print(figura.base())\n",
    "print(figura.altura())\n",
    "print(figura.area())"
   ]
  }
 ],
 "metadata": {
  "kernelspec": {
   "display_name": "Python 3",
   "language": "python",
   "name": "python3"
  },
  "language_info": {
   "codemirror_mode": {
    "name": "ipython",
    "version": 3
   },
   "file_extension": ".py",
   "mimetype": "text/x-python",
   "name": "python",
   "nbconvert_exporter": "python",
   "pygments_lexer": "ipython3",
   "version": "3.7.6"
  }
 },
 "nbformat": 4,
 "nbformat_minor": 4
}
