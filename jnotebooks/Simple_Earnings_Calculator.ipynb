{
  "nbformat": 4,
  "nbformat_minor": 0,
  "metadata": {
    "colab": {
      "name": "Simple_Earnings_Calculator.ipynb",
      "provenance": []
    },
    "kernelspec": {
      "name": "python3",
      "display_name": "Python 3"
    },
    "language_info": {
      "name": "python"
    }
  },
  "cells": [
    {
      "cell_type": "markdown",
      "metadata": {
        "id": "_MFEH9a_3PS6"
      },
      "source": [
        "# Simple Earning Calculator\n",
        "\n",
        "1. The user should be given three prompts where they'll be asked to provide different information about an employee. One prompt should ask for the employee's name, another should ask for their hourly wage, and the final one should ask how many hours the employee worked this week.\n",
        "\n",
        "2. The employee name should be processed to ensure that it's in a particular format. All employee names should be stripped of any excess white space, and should be in title case. This means that each word is capitalised with all other letters being lowercase. For example, if the employer accidentally has caps lock on and they write \"rEGINA gEORGE\", the name will still be correctly stored as \"Regina George\".\n",
        "\n",
        "3. The employee's total earnings for the week should be calculated by multiplying the hours worked by their hourly wage.\n",
        "\n",
        "4. Remember that any user input we receive is going to be a string. While we can multiply strings, it won't quite do what you want in this case. It's also worth keeping in mind that the employee's wage, or the numbers of hours they worked, might not be a whole number.\n",
        "\n",
        "5. After processing the employee's name and calculating their earnings for the week, the program should output this information as a single string\n",
        "\n",
        "[ This is a mini project by [Teclado.com](https://) as part of their coding challenges. ]"
      ]
    },
    {
      "cell_type": "code",
      "metadata": {
        "colab": {
          "base_uri": "https://localhost:8080/"
        },
        "id": "il45tLy-3l1e",
        "outputId": "d6b2c465-eaf0-4e5b-fa3b-6b850da83e27"
      },
      "source": [
        "employee = input(\"Please, enter the employee's name:\").strip().title()\n",
        "\n",
        "hourly_wage = input(\"Please, enter the employee's hourly wage:\")\n",
        "\n",
        "hours_worked = input(\"Please, enter how many hours the employee has worked:\")\n",
        "\n",
        "weekly_earnings = float(hourly_wage) * float(hours_worked)"
      ],
      "execution_count": 5,
      "outputs": [
        {
          "output_type": "stream",
          "text": [
            "Please, enter the employee's name:regina phalange\n",
            "Please, enter the employee's hourly wage:14.5\n",
            "Please, enter how many hours the employee has worked:30\n"
          ],
          "name": "stdout"
        }
      ]
    },
    {
      "cell_type": "code",
      "metadata": {
        "colab": {
          "base_uri": "https://localhost:8080/"
        },
        "id": "TFPUYvQd54vO",
        "outputId": "b776eb71-10f5-46e2-cb1b-cc424a908364"
      },
      "source": [
        "print(f\"{employee} has earned ${weekly_earnings} this week.\")"
      ],
      "execution_count": 6,
      "outputs": [
        {
          "output_type": "stream",
          "text": [
            "Regina Phalange has earned $435.0 this week.\n"
          ],
          "name": "stdout"
        }
      ]
    }
  ]
}